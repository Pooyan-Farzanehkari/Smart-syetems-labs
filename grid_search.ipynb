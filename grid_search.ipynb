{
 "cells": [
  {
   "cell_type": "markdown",
   "metadata": {},
   "source": [
    "first we need to define our model, and first thing is finding frictions and with zero motor acceleration."
   ]
  },
  {
   "cell_type": "code",
   "execution_count": 1,
   "metadata": {},
   "outputs": [],
   "source": [
    "# from Digital_twin import DigitalTwin\n",
    "# import Digital_twin \n",
    "import numpy as np\n",
    "import matplotlib.pyplot as plt\n"
   ]
  },
  {
   "cell_type": "code",
   "execution_count": null,
   "metadata": {},
   "outputs": [],
   "source": [
    "# theta = 1\n",
    "# theta_dot = 0\n",
    "\n",
    "# theta_double_dot = digital_twin_instance.get_theta_double_dot(theta, theta_dot)"
   ]
  },
  {
   "cell_type": "code",
   "execution_count": null,
   "metadata": {},
   "outputs": [],
   "source": [
    "# print(digital_twin_instance.delta_t)"
   ]
  },
  {
   "cell_type": "code",
   "execution_count": 2,
   "metadata": {},
   "outputs": [],
   "source": [
    "# Model parameters\n",
    "g = 9.8065     # Acceleration due to gravity (m/s^2)\n",
    "l = 0.4      # Length of the pendulum (m)\n",
    "# c_air = 0.05    # Air friction coefficient --------> create a list for grid search\n",
    "# c_c = 0.05      # Coulomb friction coefficient--------> create a list for grid search\n",
    "a_m = 0.5     # Motor acceleration force transfer coefficient\n",
    "mc = 0.0       # Mass of the cart (kg)\n",
    "mp = 1       # Mass of the pendulum (kg)\n",
    "I = 0.00       # Moment of inertia of the pendulum (kg·m²)\n",
    "future_motor_accelerations = []\n",
    "future_motor_positions = []\n",
    "future_motor_velocities = []\n",
    "currentmotor_acceleration = 0.\n",
    "currentmotor_velocity = 0.\n",
    "time = 0.\n",
    "R_pulley = 0.05\n"
   ]
  },
  {
   "cell_type": "code",
   "execution_count": 3,
   "metadata": {},
   "outputs": [],
   "source": [
    "def get_theta_double_dot(self, theta, theta_dot):\n",
    "    \"\"\"\n",
    "    Lab 1: Model the angular acceleration (theta_double_dot) \n",
    "    as a function of theta, theta_dot and the self.currentmotor_acceleration. \n",
    "    You should include the following constants as well: c_air, c_c, a_m, l and g. \n",
    "    \"\"\"\n",
    "    torque_gravity = -(mp * g * l / (I + mp * l**2)) * np.sin(theta)\n",
    "    torque_air_friction = -(c_air / (I + mp * l**2)) * theta_dot\n",
    "    torque_coulomb_friction = -(c_c / (I + mp * l**2)) * theta_dot\n",
    "    xdoubledot = a_m * R_pulley * currentmotor_acceleration\n",
    "    torque_motor = - (mp * l / (I + mp * l**2)) * xdoubledot * np.cos(theta)        \n",
    "    angular_acceleration = torque_gravity + torque_air_friction + torque_coulomb_friction + torque_motor\n",
    "    return angular_acceleration\n"
   ]
  },
  {
   "cell_type": "code",
   "execution_count": null,
   "metadata": {},
   "outputs": [],
   "source": [
    "# create a list for finding values of c_air and c_c with grid search\n",
    "c_air_values = np.linspace(0.01, 0.1, 10)\n",
    "c_c_values = np.linspace(0.01, 0.1, 10)\n",
    "\n",
    "# define error function\n",
    "def error(simulated, real):\n",
    "    return np.sqrt(np.mean((simulated - real)**2))\n",
    "\n",
    "# create a list to store the errors\n",
    "errors = []\n",
    "# create a list to store the best parameters\n",
    "best_parameters = []\n",
    "\n",
    "# define function to do grid on get_theta_double_dot based on input parameters \n",
    "def grid_search(c_air_values, c_c_values):\n",
    "    for c_air in c_air_values:\n",
    "        for c_c in c_c_values:\n",
    "            # create a list to store the simulated values\n",
    "            simulated = []\n",
    "            # create a list to store the real values\n",
    "            real = []\n",
    "            # create a list to store the errors\n",
    "            error_list = []\n",
    "            # create a list to store the best parameters\n",
    "            best_parameters = []\n",
    "            # loop through the time steps\n",
    "            for i in range(100):\n",
    "                # get the simulated values\n",
    "                simulated.append(get_theta_double_dot(theta, theta_dot))\n",
    "                # get the real values\n",
    "                real.append(get_theta_double_dot(theta, theta_dot))\n",
    "                # get the error\n",
    "                error_list.append(error(simulated, real))\n",
    "                # get the best parameters\n",
    "                best_parameters.append((c_air, c_c))\n",
    "    return best_parameters, error_list\n",
    "\n"
   ]
  }
 ],
 "metadata": {
  "kernelspec": {
   "display_name": "base",
   "language": "python",
   "name": "python3"
  },
  "language_info": {
   "codemirror_mode": {
    "name": "ipython",
    "version": 3
   },
   "file_extension": ".py",
   "mimetype": "text/x-python",
   "name": "python",
   "nbconvert_exporter": "python",
   "pygments_lexer": "ipython3",
   "version": "3.12.4"
  }
 },
 "nbformat": 4,
 "nbformat_minor": 2
}
