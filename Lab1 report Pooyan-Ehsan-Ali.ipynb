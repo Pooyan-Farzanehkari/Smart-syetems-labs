{
 "cells": [
  {
   "cell_type": "markdown",
   "metadata": {},
   "source": [
    "#  Pendulum Model\n",
    "\n",
    "### The pendulum dynamic is described here by considering gravitational torque, air friction, mechanical friction, and pendulum length:\n",
    "### Gravitational torque: which is the force exerted by gravity that causes the pendulum to swing back and forth. This torque depends on the mass of the pendulum and the acceleration due to gravity.\n",
    "### Air friction: As the pendulum moves through the air, it encounters resistance that slows down its motion. This frictional force is proportional to the speed of the pendulum and acts in the opposite direction of its movement.\n",
    "### Mechanical friction: is also a significant factor in pendulum dynamics. This type of friction occurs at the pivot point where the pendulum is attached. It results from the contact between moving parts and can cause energy loss, leading to a gradual decrease in the amplitude of the pendulum's oscillations over time.\n",
    "### length of the pendulum: plays a crucial role in its dynamics. The length determines the period of the pendulum, which is the time it takes to complete one full swing. A longer pendulum will have a longer period, meaning it swings more slowly, while a shorter pendulum will have a shorter period and swing more quickly.\n"
   ]
  },
  {
   "cell_type": "markdown",
   "metadata": {},
   "source": [
    "\n",
    "## State variables:\n",
    "$$ {\\theta}  : Angle of the pendulum (radians) "
   ]
  },
  {
   "cell_type": "markdown",
   "metadata": {},
   "source": [
    "$$ \\dot{\\theta}  : Angular velocity (rad/s)\n"
   ]
  },
  {
   "cell_type": "markdown",
   "metadata": {},
   "source": [
    "\n",
    "### Dynamics equations:\n",
    "\n",
    "\n",
    "$$\\ddot{\\theta} = -\\frac{g}{L}\\sin(\\theta) - \\frac{b}{mL^2}\\dot{\\theta} - \\frac{f}{mL^2}\\text{sign}(\\dot{\\theta}) + \\frac{a_{motor}}{L}$$\n",
    "\n",
    "### Parameters:\n",
    "- \\( g \\): gravitational acceleration (9.81 m/s²)\n",
    "- \\( L \\): pendulum length (e.g., 1.0 m)\n",
    "- \\( b \\): air friction coefficient\n",
    "- \\( f \\): mechanical friction coefficient\n",
    "- \\( m \\): mass of the pendulum bob\n",
    "- \\( a_{motor} \\): linear acceleration induced by the motor (m/s²)\n",
    "\n"
   ]
  },
  {
   "cell_type": "markdown",
   "metadata": {},
   "source": [
    "# 4.2 Motor Model\n",
    "\n",
    "### The motor influences the pendulum dynamics by converting torque into linear acceleration, \n",
    "### directly affecting the angular motion of the pendulum. Based on the paper, this relationship is represented clearly as follows:\n",
    "\n",
    "## Motor Acceleration Relationship:\n",
    "\n",
    "### The linear acceleration provided by the motor (\\(a_{motor}\\)) is related to motor torque (\\(\\tau\\)), mass of the pendulum bob (\\(m\\)), and the effective radius of torque application (\\(r\\)) by:\n"
   ]
  },
  {
   "cell_type": "markdown",
   "metadata": {},
   "source": [
    "\n",
    "\n",
    "$$ a_{motor} = \\frac{\\tau}{m \\cdot r}\n"
   ]
  },
  {
   "cell_type": "markdown",
   "metadata": {},
   "source": [
    "\n",
    "\n",
    "##### \\(\\tau\\)**: Motor torque (Nm)  \n",
    "##### \\(m\\)**: Mass of pendulum (kg)  \n",
    "##### \\(r\\)**: Effective radius (m)\n",
    "\n",
    "## Interaction with Pendulum Dynamics:\n",
    "\n",
    "### Motor torque indirectly changes the pendulum’s angular acceleration by generating linear acceleration at the pivot point."
   ]
  }
 ],
 "metadata": {
  "kernelspec": {
   "display_name": "base",
   "language": "python",
   "name": "python3"
  },
  "language_info": {
   "codemirror_mode": {
    "name": "ipython",
    "version": 3
   },
   "file_extension": ".py",
   "mimetype": "text/x-python",
   "name": "python",
   "nbconvert_exporter": "python",
   "pygments_lexer": "ipython3",
   "version": "3.11.7"
  }
 },
 "nbformat": 4,
 "nbformat_minor": 2
}
