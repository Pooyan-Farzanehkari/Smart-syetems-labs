{
 "cells": [
  {
   "cell_type": "code",
   "execution_count": 2,
   "metadata": {},
   "outputs": [],
   "source": [
    "import numpy as np\n",
    "import matplotlib.pyplot as plt\n",
    "import pandas as pd"
   ]
  },
  {
   "cell_type": "code",
   "execution_count": 4,
   "metadata": {},
   "outputs": [
    {
     "data": {
      "text/html": [
       "<div>\n",
       "<style scoped>\n",
       "    .dataframe tbody tr th:only-of-type {\n",
       "        vertical-align: middle;\n",
       "    }\n",
       "\n",
       "    .dataframe tbody tr th {\n",
       "        vertical-align: top;\n",
       "    }\n",
       "\n",
       "    .dataframe thead th {\n",
       "        text-align: right;\n",
       "    }\n",
       "</style>\n",
       "<table border=\"1\" class=\"dataframe\">\n",
       "  <thead>\n",
       "    <tr style=\"text-align: right;\">\n",
       "      <th></th>\n",
       "      <th>xAccl</th>\n",
       "      <th>yAccl</th>\n",
       "      <th>zAccl</th>\n",
       "      <th>newPosition</th>\n",
       "      <th>time</th>\n",
       "      <th>pcTime</th>\n",
       "    </tr>\n",
       "  </thead>\n",
       "  <tbody>\n",
       "    <tr>\n",
       "      <th>0</th>\n",
       "      <td>986</td>\n",
       "      <td>-18</td>\n",
       "      <td>-139</td>\n",
       "      <td>0</td>\n",
       "      <td>346578</td>\n",
       "      <td>440.011024</td>\n",
       "    </tr>\n",
       "    <tr>\n",
       "      <th>1</th>\n",
       "      <td>1004</td>\n",
       "      <td>-9</td>\n",
       "      <td>-20</td>\n",
       "      <td>0</td>\n",
       "      <td>371496</td>\n",
       "      <td>464.955807</td>\n",
       "    </tr>\n",
       "    <tr>\n",
       "      <th>2</th>\n",
       "      <td>852</td>\n",
       "      <td>33</td>\n",
       "      <td>187</td>\n",
       "      <td>0</td>\n",
       "      <td>396496</td>\n",
       "      <td>490.056992</td>\n",
       "    </tr>\n",
       "    <tr>\n",
       "      <th>3</th>\n",
       "      <td>977</td>\n",
       "      <td>-134</td>\n",
       "      <td>298</td>\n",
       "      <td>0</td>\n",
       "      <td>421500</td>\n",
       "      <td>514.984846</td>\n",
       "    </tr>\n",
       "    <tr>\n",
       "      <th>4</th>\n",
       "      <td>498</td>\n",
       "      <td>88</td>\n",
       "      <td>594</td>\n",
       "      <td>0</td>\n",
       "      <td>446507</td>\n",
       "      <td>540.004730</td>\n",
       "    </tr>\n",
       "  </tbody>\n",
       "</table>\n",
       "</div>"
      ],
      "text/plain": [
       "   xAccl  yAccl  zAccl  newPosition    time      pcTime\n",
       "0    986    -18   -139            0  346578  440.011024\n",
       "1   1004     -9    -20            0  371496  464.955807\n",
       "2    852     33    187            0  396496  490.056992\n",
       "3    977   -134    298            0  421500  514.984846\n",
       "4    498     88    594            0  446507  540.004730"
      ]
     },
     "execution_count": 4,
     "metadata": {},
     "output_type": "execute_result"
    }
   ],
   "source": [
    "theta_180_1 = pd.read_csv('180_theta_1.csv')\n",
    "theta_180_1.head()"
   ]
  }
 ],
 "metadata": {
  "kernelspec": {
   "display_name": "base",
   "language": "python",
   "name": "python3"
  },
  "language_info": {
   "codemirror_mode": {
    "name": "ipython",
    "version": 3
   },
   "file_extension": ".py",
   "mimetype": "text/x-python",
   "name": "python",
   "nbconvert_exporter": "python",
   "pygments_lexer": "ipython3",
   "version": "3.12.4"
  }
 },
 "nbformat": 4,
 "nbformat_minor": 2
}
