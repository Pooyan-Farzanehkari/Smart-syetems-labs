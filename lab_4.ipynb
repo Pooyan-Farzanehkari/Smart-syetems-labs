{
 "cells": [
  {
   "cell_type": "code",
   "execution_count": null,
   "id": "1c4ea8b7",
   "metadata": {},
   "outputs": [],
   "source": []
  },
  {
   "cell_type": "markdown",
   "id": "87449829",
   "metadata": {},
   "source": [
    "---"
   ]
  },
  {
   "cell_type": "markdown",
   "id": "7af83236",
   "metadata": {},
   "source": [
    "### 3.1. Discuss the following with your group before you start: What are the specific challenges in using genetic algorithms for controlling a pendulum and achieving an upright position?\n",
    "\n",
    "there are several problems that we could face in this scenario that are as below:\n",
    "\n",
    "-  Nonlinear dynamics: The pendulum system is nonlinear and unstable near the upright position. Small changes in actions can lead to drastically different results.\n",
    "-  Delayed effect: Each control action might have a delayed impact, making it hard to evaluate how good a sequence is early in the simulation.\n",
    "-  Fitness evaluation cost: Simulating each candidate sequence with the Digital Twin is computationally expensive.\n"
   ]
  },
  {
   "cell_type": "markdown",
   "id": "4d88417f",
   "metadata": {},
   "source": [
    "### 3.2. First set the self.delta_t in the Digital_Twin.py to 0.005 as this is what we use during the optimization process: self.delta t = 0.005.\n",
    "\n",
    "our sample time delta_t is = 025 s and we added that in all part of our simulations \n",
    "\n",
    "\n"
   ]
  },
  {
   "cell_type": "markdown",
   "id": "3569d691",
   "metadata": {},
   "source": [
    "### 3.4. How should the parameters of the genetic algorithm (e.g., population size, mutation rate, crossover rate) be determined? What strategies can be implemented to fine-tune these parameters effectively?\n",
    "\n",
    "now lets discuss question 3.4 and go step by step\n",
    "fist of all, population size:\n",
    "\n",
    "A larger population size increases the genetic diversity among individuals in each generation, which can lead to better exploration of the solution space. For this reason, we selected a population size of 60. However, this comes at the cost of increased computational time. In an ideal scenario, even a population size as small as 4 was able to achieve a partial solution when the generation size exceeded 4. However, the result was limited—it only reached 180 degrees and was unable to maintain stability at that position.\n",
    "\n",
    "Mutation rate:\n",
    "\n",
    "Mutation introduces random and unpredictable variations into the population, allowing the algorithm to explore areas of the solution space that may not be reachable through crossover alone. If the mutation rate is too low, the algorithm may converge prematurely and become trapped in local optima. Conversely, if the mutation rate is too high, the search process becomes overly random, which can prevent convergence to a viable solution. In our implementation, we set the mutation rate to 10%.\n",
    "\n",
    "Cross over rate:\n",
    "\n",
    "The crossover rate determines how frequently two parent sequences combine to produce offspring. Common values typically range between 80% and 90%, as higher crossover rates facilitate the exchange of beneficial traits between solutions, promoting convergence. In our experiments, we began with short crossover intervals (e.g., every 2 steps) and gradually tested longer intervals to assess their impact on performance."
   ]
  },
  {
   "cell_type": "markdown",
   "id": "97f7da64",
   "metadata": {},
   "source": [
    "### 3.5.2 Can you come-up with another method of evaluation that will improve the learning rate?\n",
    "\n",
    "Instead of relying solely on the maximum angle (theta) reached, we reward the robot based on the duration it remains balanced and centered. Additionally, a penalty is applied for any deviation in angle, encouraging more stable and controlled behavior."
   ]
  },
  {
   "cell_type": "markdown",
   "id": "28ea2d9a",
   "metadata": {},
   "source": [
    "### 3.5.3 Bonus question: What is fundamentally the problem with the current crossover function in the GA? Can you come up with a better version?\n",
    "\n",
    "Instead of using one-point crossover, we can employ uniform crossover, which offers several advantages. One-point crossover is computationally simple and efficient, but it limits genetic diversity by mixing genetic material at only a single location. This often results in offspring that closely resemble one parent, potentially slowing the learning process and increasing the risk of convergence to local optima.\n",
    "\n",
    "In contrast, uniform crossover enhances genetic diversity by randomly selecting each gene (or action) from either parent, thereby promoting broader exploration of the solution space and often leading to faster learning. However, this approach may occasionally disrupt beneficial sequences of genes inherited from parents, which could result in less stable behavior in offspring.\n",
    "\n",
    "Overall, while one-point crossover provides more consistency, uniform crossover generally yields better performance due to its greater variability and flexibility."
   ]
  }
 ],
 "metadata": {
  "language_info": {
   "name": "python"
  }
 },
 "nbformat": 4,
 "nbformat_minor": 5
}
